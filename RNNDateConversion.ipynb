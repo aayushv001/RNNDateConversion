{
 "cells": [
  {
   "cell_type": "markdown",
   "id": "47bb0253-4063-4871-9350-a8faa614bd21",
   "metadata": {
    "tags": []
   },
   "source": [
    "# Assignment-1, Aayush Verma, 06/16/2024"
   ]
  },
  {
   "cell_type": "code",
   "execution_count": 36,
   "id": "81d17b07-57a0-46a9-b1a8-70a0d0b18b06",
   "metadata": {},
   "outputs": [],
   "source": [
    "import calendar\n",
    "import random\n",
    "import pandas as pd\n",
    "from tensorflow.keras.preprocessing.text import Tokenizer\n",
    "import numpy as np\n",
    "from tensorflow .keras.models import Sequential\n",
    "from tensorflow.keras.layers import Embedding,GRU,LSTM,Bidirectional,TimeDistributed,Dense,Dropout,Activation,Input,RepeatVector,BatchNormalization\n",
    "from tensorflow.keras.optimizers import Adam\n",
    "from tensorflow.keras.losses import SparseCategoricalCrossentropy\n",
    "from tensorflow.keras.callbacks import EarlyStopping\n",
    "import tensorflow as tf\n",
    "from tensorflow.keras.utils import split_dataset\n",
    "import re\n",
    "from matplotlib import pyplot as plt"
   ]
  },
  {
   "cell_type": "markdown",
   "id": "94202393-cd3a-4559-84a1-efe46aeb6962",
   "metadata": {},
   "source": [
    "## Question 1"
   ]
  },
  {
   "cell_type": "markdown",
   "id": "e1669d59-f6ca-4e89-85f4-1261fa6f3afa",
   "metadata": {},
   "source": [
    "### Generating Random dates using calendar and random modules"
   ]
  },
  {
   "cell_type": "code",
   "execution_count": 4,
   "id": "a18981ed-ddcf-4ca5-9f24-785a6f518368",
   "metadata": {},
   "outputs": [],
   "source": [
    "def generateDate():\n",
    "    mi = random.choice(list(range(1,12+1)))\n",
    "    m = list(calendar.month_name)[mi]\n",
    "    y = random.choice(list(range(0,2024)))\n",
    "    di = calendar.monthrange(y,mi)[1]\n",
    "    mi = \"0\"*(2-len(str(mi)))+str(mi)\n",
    "    d = random.choice(list(range(1,di+1)))\n",
    "    d = \"0\"*(2-len(str(d)))+str(d)\n",
    "    y = \"0\" * (4-len(str(y)))+str(y) \n",
    "    return (m+\" \"+str(d)+\", \"+y,y+\"-\"+str(mi)+\"-\"+str(d))"
   ]
  },
  {
   "cell_type": "code",
   "execution_count": 5,
   "id": "97da0f6c-e013-4fc2-bc91-48f81ffef43b",
   "metadata": {},
   "outputs": [],
   "source": [
    "samples = [generateDate() for i in range(30000)]"
   ]
  },
  {
   "cell_type": "code",
   "execution_count": 6,
   "id": "2f3aa062-01ee-4f9e-bd4c-534b2d9c9c22",
   "metadata": {},
   "outputs": [
    {
     "data": {
      "text/plain": [
       "[('December 10, 1360', '1360-12-10'),\n",
       " ('April 12, 0233', '0233-04-12'),\n",
       " ('November 23, 1057', '1057-11-23'),\n",
       " ('August 04, 1261', '1261-08-04'),\n",
       " ('January 10, 1387', '1387-01-10')]"
      ]
     },
     "execution_count": 6,
     "metadata": {},
     "output_type": "execute_result"
    }
   ],
   "source": [
    "samples[:5]"
   ]
  },
  {
   "cell_type": "code",
   "execution_count": 7,
   "id": "d49527a7-bd38-4ae2-b96e-4675ba74ac03",
   "metadata": {},
   "outputs": [],
   "source": [
    "df = pd.DataFrame(samples,columns = [\"x\",\"y\"])"
   ]
  },
  {
   "cell_type": "markdown",
   "id": "78a27a03-1b9c-4f97-ae28-1212f3edc41c",
   "metadata": {},
   "source": [
    "### Visualizing created dates"
   ]
  },
  {
   "cell_type": "code",
   "execution_count": 8,
   "id": "b370360d-c969-4fac-b855-f57149731a09",
   "metadata": {},
   "outputs": [
    {
     "data": {
      "text/html": [
       "<div>\n",
       "<style scoped>\n",
       "    .dataframe tbody tr th:only-of-type {\n",
       "        vertical-align: middle;\n",
       "    }\n",
       "\n",
       "    .dataframe tbody tr th {\n",
       "        vertical-align: top;\n",
       "    }\n",
       "\n",
       "    .dataframe thead th {\n",
       "        text-align: right;\n",
       "    }\n",
       "</style>\n",
       "<table border=\"1\" class=\"dataframe\">\n",
       "  <thead>\n",
       "    <tr style=\"text-align: right;\">\n",
       "      <th></th>\n",
       "      <th>x</th>\n",
       "      <th>y</th>\n",
       "    </tr>\n",
       "  </thead>\n",
       "  <tbody>\n",
       "    <tr>\n",
       "      <th>0</th>\n",
       "      <td>December 10, 1360</td>\n",
       "      <td>1360-12-10</td>\n",
       "    </tr>\n",
       "    <tr>\n",
       "      <th>1</th>\n",
       "      <td>April 12, 0233</td>\n",
       "      <td>0233-04-12</td>\n",
       "    </tr>\n",
       "    <tr>\n",
       "      <th>2</th>\n",
       "      <td>November 23, 1057</td>\n",
       "      <td>1057-11-23</td>\n",
       "    </tr>\n",
       "    <tr>\n",
       "      <th>3</th>\n",
       "      <td>August 04, 1261</td>\n",
       "      <td>1261-08-04</td>\n",
       "    </tr>\n",
       "    <tr>\n",
       "      <th>4</th>\n",
       "      <td>January 10, 1387</td>\n",
       "      <td>1387-01-10</td>\n",
       "    </tr>\n",
       "    <tr>\n",
       "      <th>...</th>\n",
       "      <td>...</td>\n",
       "      <td>...</td>\n",
       "    </tr>\n",
       "    <tr>\n",
       "      <th>29995</th>\n",
       "      <td>June 25, 0601</td>\n",
       "      <td>0601-06-25</td>\n",
       "    </tr>\n",
       "    <tr>\n",
       "      <th>29996</th>\n",
       "      <td>September 01, 0556</td>\n",
       "      <td>0556-09-01</td>\n",
       "    </tr>\n",
       "    <tr>\n",
       "      <th>29997</th>\n",
       "      <td>January 31, 0744</td>\n",
       "      <td>0744-01-31</td>\n",
       "    </tr>\n",
       "    <tr>\n",
       "      <th>29998</th>\n",
       "      <td>January 13, 1943</td>\n",
       "      <td>1943-01-13</td>\n",
       "    </tr>\n",
       "    <tr>\n",
       "      <th>29999</th>\n",
       "      <td>February 25, 1755</td>\n",
       "      <td>1755-02-25</td>\n",
       "    </tr>\n",
       "  </tbody>\n",
       "</table>\n",
       "<p>30000 rows × 2 columns</p>\n",
       "</div>"
      ],
      "text/plain": [
       "                        x           y\n",
       "0       December 10, 1360  1360-12-10\n",
       "1          April 12, 0233  0233-04-12\n",
       "2       November 23, 1057  1057-11-23\n",
       "3         August 04, 1261  1261-08-04\n",
       "4        January 10, 1387  1387-01-10\n",
       "...                   ...         ...\n",
       "29995       June 25, 0601  0601-06-25\n",
       "29996  September 01, 0556  0556-09-01\n",
       "29997    January 31, 0744  0744-01-31\n",
       "29998    January 13, 1943  1943-01-13\n",
       "29999   February 25, 1755  1755-02-25\n",
       "\n",
       "[30000 rows x 2 columns]"
      ]
     },
     "execution_count": 8,
     "metadata": {},
     "output_type": "execute_result"
    }
   ],
   "source": [
    "df"
   ]
  },
  {
   "cell_type": "markdown",
   "id": "947a435e-169c-4ab7-aed5-05c444db8870",
   "metadata": {},
   "source": [
    "### All unique tokens in Corpus"
   ]
  },
  {
   "cell_type": "code",
   "execution_count": 9,
   "id": "974a26b5-0193-4f77-80ef-71c94f761c4a",
   "metadata": {},
   "outputs": [
    {
     "data": {
      "text/plain": [
       "' ,-0123456789abcdefghijlmnoprstuvy'"
      ]
     },
     "execution_count": 9,
     "metadata": {},
     "output_type": "execute_result"
    }
   ],
   "source": [
    "''.join(sorted(set(\"\".join(df['x'].map(lambda x :x.lower()).tolist())) | set(\"\".join(df['y'].map(lambda x :x.lower()).tolist()))))"
   ]
  },
  {
   "cell_type": "markdown",
   "id": "3fbf61c5-5f69-4a62-bc3c-24381d925ceb",
   "metadata": {},
   "source": [
    "### Adding the padding token '?' to the end of strings to make them the same length"
   ]
  },
  {
   "cell_type": "code",
   "execution_count": 10,
   "id": "d118418b-5dac-47cb-86f4-9ae9879566f4",
   "metadata": {},
   "outputs": [],
   "source": [
    "df['x'] = df['x'].map(lambda x : x+(18-len(x))*\"?\")"
   ]
  },
  {
   "cell_type": "code",
   "execution_count": 11,
   "id": "ad056c64-40ad-4118-93ef-fd85fd1340e1",
   "metadata": {},
   "outputs": [],
   "source": [
    "df['y'] = df['y'].map(lambda x : x+(10-len(x))*\"?\")"
   ]
  },
  {
   "cell_type": "markdown",
   "id": "e13dd863-8e72-4d95-b38d-8294955f7d55",
   "metadata": {},
   "source": [
    "### Creating tokenizers for X and for Y"
   ]
  },
  {
   "cell_type": "code",
   "execution_count": 13,
   "id": "32d3898f-7d10-4883-b6af-5d3d48ed53bc",
   "metadata": {},
   "outputs": [],
   "source": [
    "xtokenizer = Tokenizer(char_level = True)\n",
    "ytokenizer = Tokenizer(char_level = True)\n",
    "xtokenizer.fit_on_texts(df['x'].tolist())\n",
    "ytokenizer.fit_on_texts(df['y'].tolist())"
   ]
  },
  {
   "cell_type": "markdown",
   "id": "4e45afaf-b1d8-4000-9aa0-6894818d91a2",
   "metadata": {},
   "source": [
    "### Encoding X and Y"
   ]
  },
  {
   "cell_type": "code",
   "execution_count": 14,
   "id": "3fd3ecd2-65b4-4f62-b526-51e9e16f1c11",
   "metadata": {},
   "outputs": [],
   "source": [
    "xEncoded = xtokenizer.texts_to_sequences(df['x'].tolist())\n",
    "yEncoded = ytokenizer.texts_to_sequences(df['y'].tolist())"
   ]
  },
  {
   "cell_type": "code",
   "execution_count": 15,
   "id": "1caed1a9-d3b8-4078-87ab-2e96c16748f1",
   "metadata": {},
   "outputs": [],
   "source": [
    "xEncoded = np.array(xEncoded)\n",
    "yEncoded = np.array(yEncoded)"
   ]
  },
  {
   "cell_type": "markdown",
   "id": "229838ba-f12c-4901-afa9-2339cd4e6edf",
   "metadata": {},
   "source": [
    "### Creating Tensorflow Dataset for texts"
   ]
  },
  {
   "cell_type": "code",
   "execution_count": 16,
   "id": "b70d57bd-c454-4952-bb3d-9681884b7781",
   "metadata": {},
   "outputs": [],
   "source": [
    "dataset = tf.data.Dataset.from_tensor_slices((xEncoded,yEncoded))"
   ]
  },
  {
   "cell_type": "markdown",
   "id": "0c7e88e4-3bfe-46b8-957f-b90f7dcbb44b",
   "metadata": {},
   "source": [
    "### Train, Test and Validation split"
   ]
  },
  {
   "cell_type": "code",
   "execution_count": 17,
   "id": "b1556d11-14a3-44fb-8cf2-163022d93724",
   "metadata": {},
   "outputs": [],
   "source": [
    "train,test = split_dataset(dataset,left_size = 0.8)\n",
    "train,val =  split_dataset(train,left_size = 0.85)"
   ]
  },
  {
   "cell_type": "markdown",
   "id": "e983b80c-c2c2-49f5-9d7b-bd1889164fcc",
   "metadata": {},
   "source": [
    "### Turning on Batching and Pre-Fetching to optimize performance"
   ]
  },
  {
   "cell_type": "code",
   "execution_count": 18,
   "id": "7c6c9665-a484-47b2-a36e-69b2734c5235",
   "metadata": {},
   "outputs": [],
   "source": [
    "train = train.batch(32).prefetch(1)\n",
    "val = val.batch(32).prefetch(1)\n",
    "test = test.batch(32).prefetch(1)"
   ]
  },
  {
   "cell_type": "markdown",
   "id": "73b3617c-9a65-4512-8389-10e02be2d40c",
   "metadata": {},
   "source": [
    "### Sequence to Sequence Encoder-Decoder GRU Model"
   ]
  },
  {
   "cell_type": "code",
   "execution_count": 39,
   "id": "1dc0a9f8-a88a-44b1-ac3a-ad7f0dbadd7f",
   "metadata": {},
   "outputs": [
    {
     "name": "stdout",
     "output_type": "stream",
     "text": [
      "Model: \"gru\"\n",
      "_________________________________________________________________\n",
      " Layer (type)                Output Shape              Param #   \n",
      "=================================================================\n",
      " embedding_4 (Embedding)     (None, 18, 128)           4352      \n",
      "                                                                 \n",
      " bidirectional_7 (Bidirecti  (None, 64)                31104     \n",
      " onal)                                                           \n",
      "                                                                 \n",
      " repeat_vector_3 (RepeatVec  (None, 10, 64)            0         \n",
      " tor)                                                            \n",
      "                                                                 \n",
      " bidirectional_8 (Bidirecti  (None, 10, 64)            18816     \n",
      " onal)                                                           \n",
      "                                                                 \n",
      " time_distributed_3 (TimeDi  (None, 10, 13)            845       \n",
      " stributed)                                                      \n",
      "                                                                 \n",
      " activation_1 (Activation)   (None, 10, 13)            0         \n",
      "                                                                 \n",
      "=================================================================\n",
      "Total params: 55117 (215.30 KB)\n",
      "Trainable params: 55117 (215.30 KB)\n",
      "Non-trainable params: 0 (0.00 Byte)\n",
      "_________________________________________________________________\n"
     ]
    }
   ],
   "source": [
    "gru = Sequential(name = \"gru\")\n",
    "gru.add(Input((18,)))\n",
    "gru.add(Embedding(34,128,mask_zero = False))\n",
    "gru.add(Bidirectional(GRU(32)))\n",
    "gru.add(RepeatVector(10))\n",
    "gru.add(Bidirectional(GRU(32,return_sequences = True)))\n",
    "gru.add(TimeDistributed(Dense(13)))\n",
    "gru.add(Activation(\"softmax\"))\n",
    "gru.summary()\n",
    "gru.compile(optimizer = Adam(learning_rate = 0.0005),loss =\"sparse_categorical_crossentropy\",metrics = [\"accuracy\"])"
   ]
  },
  {
   "cell_type": "markdown",
   "id": "b8792b5b-7e47-44b1-82c2-db48e40df739",
   "metadata": {},
   "source": [
    "### Training the Model"
   ]
  },
  {
   "cell_type": "code",
   "execution_count": 40,
   "id": "1d1c6378-ab08-49f0-b88d-674700cb0848",
   "metadata": {},
   "outputs": [
    {
     "name": "stdout",
     "output_type": "stream",
     "text": [
      "Epoch 1/60\n",
      "638/638 [==============================] - 13s 11ms/step - loss: 1.5755 - accuracy: 0.4487 - val_loss: 1.0165 - val_accuracy: 0.6306\n",
      "Epoch 2/60\n",
      "638/638 [==============================] - 5s 8ms/step - loss: 0.8260 - accuracy: 0.6961 - val_loss: 0.6674 - val_accuracy: 0.7471\n",
      "Epoch 3/60\n",
      "638/638 [==============================] - 5s 8ms/step - loss: 0.5614 - accuracy: 0.7860 - val_loss: 0.4649 - val_accuracy: 0.8244\n",
      "Epoch 4/60\n",
      "638/638 [==============================] - 5s 8ms/step - loss: 0.3797 - accuracy: 0.8634 - val_loss: 0.3005 - val_accuracy: 0.8998\n",
      "Epoch 5/60\n",
      "638/638 [==============================] - 5s 9ms/step - loss: 0.2336 - accuracy: 0.9279 - val_loss: 0.1745 - val_accuracy: 0.9524\n",
      "Epoch 6/60\n",
      "638/638 [==============================] - 5s 9ms/step - loss: 0.1361 - accuracy: 0.9672 - val_loss: 0.1052 - val_accuracy: 0.9772\n",
      "Epoch 7/60\n",
      "638/638 [==============================] - 5s 8ms/step - loss: 0.0799 - accuracy: 0.9860 - val_loss: 0.0626 - val_accuracy: 0.9899\n",
      "Epoch 8/60\n",
      "638/638 [==============================] - 5s 8ms/step - loss: 0.0471 - accuracy: 0.9943 - val_loss: 0.0373 - val_accuracy: 0.9962\n",
      "Epoch 9/60\n",
      "638/638 [==============================] - 5s 8ms/step - loss: 0.0285 - accuracy: 0.9980 - val_loss: 0.0228 - val_accuracy: 0.9983\n",
      "Epoch 10/60\n",
      "638/638 [==============================] - 6s 9ms/step - loss: 0.0177 - accuracy: 0.9993 - val_loss: 0.0144 - val_accuracy: 0.9994\n",
      "Epoch 11/60\n",
      "638/638 [==============================] - 5s 8ms/step - loss: 0.0113 - accuracy: 0.9997 - val_loss: 0.0095 - val_accuracy: 0.9996\n",
      "Epoch 12/60\n",
      "638/638 [==============================] - 5s 9ms/step - loss: 0.0073 - accuracy: 0.9999 - val_loss: 0.0066 - val_accuracy: 0.9998\n",
      "Epoch 13/60\n",
      "638/638 [==============================] - 5s 8ms/step - loss: 0.0048 - accuracy: 1.0000 - val_loss: 0.0046 - val_accuracy: 0.9999\n",
      "Epoch 14/60\n",
      "638/638 [==============================] - 5s 9ms/step - loss: 0.0032 - accuracy: 1.0000 - val_loss: 0.0031 - val_accuracy: 0.9999\n",
      "Epoch 15/60\n",
      "638/638 [==============================] - 5s 8ms/step - loss: 0.0022 - accuracy: 1.0000 - val_loss: 0.0022 - val_accuracy: 0.9999\n",
      "Epoch 16/60\n",
      "638/638 [==============================] - 5s 8ms/step - loss: 0.0015 - accuracy: 1.0000 - val_loss: 0.0015 - val_accuracy: 1.0000\n",
      "Epoch 17/60\n",
      "638/638 [==============================] - 5s 8ms/step - loss: 0.0010 - accuracy: 1.0000 - val_loss: 0.0011 - val_accuracy: 1.0000\n",
      "Epoch 18/60\n",
      "638/638 [==============================] - 5s 9ms/step - loss: 7.2629e-04 - accuracy: 1.0000 - val_loss: 7.6388e-04 - val_accuracy: 1.0000\n",
      "Epoch 19/60\n",
      "638/638 [==============================] - 5s 8ms/step - loss: 5.0743e-04 - accuracy: 1.0000 - val_loss: 5.4462e-04 - val_accuracy: 1.0000\n",
      "Epoch 20/60\n",
      "638/638 [==============================] - 5s 8ms/step - loss: 3.5682e-04 - accuracy: 1.0000 - val_loss: 3.9260e-04 - val_accuracy: 1.0000\n",
      "Epoch 21/60\n",
      "638/638 [==============================] - 6s 9ms/step - loss: 2.5068e-04 - accuracy: 1.0000 - val_loss: 2.8103e-04 - val_accuracy: 1.0000\n",
      "Epoch 22/60\n",
      "638/638 [==============================] - 5s 9ms/step - loss: 1.7657e-04 - accuracy: 1.0000 - val_loss: 2.0329e-04 - val_accuracy: 1.0000\n",
      "Epoch 23/60\n",
      "638/638 [==============================] - 5s 8ms/step - loss: 1.2506e-04 - accuracy: 1.0000 - val_loss: 1.4745e-04 - val_accuracy: 1.0000\n",
      "Epoch 24/60\n",
      "638/638 [==============================] - 5s 8ms/step - loss: 8.8591e-05 - accuracy: 1.0000 - val_loss: 1.0737e-04 - val_accuracy: 1.0000\n",
      "Epoch 25/60\n",
      "638/638 [==============================] - 5s 8ms/step - loss: 6.2766e-05 - accuracy: 1.0000 - val_loss: 7.7848e-05 - val_accuracy: 1.0000\n",
      "Epoch 26/60\n",
      "638/638 [==============================] - 5s 8ms/step - loss: 4.4605e-05 - accuracy: 1.0000 - val_loss: 5.4464e-05 - val_accuracy: 1.0000\n",
      "Epoch 27/60\n",
      "638/638 [==============================] - 5s 9ms/step - loss: 3.1911e-05 - accuracy: 1.0000 - val_loss: 3.9122e-05 - val_accuracy: 1.0000\n",
      "Epoch 28/60\n",
      "638/638 [==============================] - 5s 8ms/step - loss: 2.2774e-05 - accuracy: 1.0000 - val_loss: 3.1809e-05 - val_accuracy: 1.0000\n",
      "Epoch 29/60\n",
      "638/638 [==============================] - 5s 9ms/step - loss: 0.0023 - accuracy: 0.9994 - val_loss: 1.5391e-04 - val_accuracy: 1.0000\n",
      "Epoch 30/60\n",
      "638/638 [==============================] - 5s 8ms/step - loss: 8.3003e-05 - accuracy: 1.0000 - val_loss: 9.2362e-05 - val_accuracy: 1.0000\n",
      "Epoch 31/60\n",
      "638/638 [==============================] - 5s 8ms/step - loss: 5.3790e-05 - accuracy: 1.0000 - val_loss: 6.8374e-05 - val_accuracy: 1.0000\n"
     ]
    }
   ],
   "source": [
    "logs = gru.fit(train,batch_size = 32,epochs = 60,validation_data = val,callbacks = [EarlyStopping(patience = 3,restore_best_weights=True)])"
   ]
  },
  {
   "cell_type": "markdown",
   "id": "4b5464a9-c886-4836-aca3-ae689029b97d",
   "metadata": {},
   "source": [
    "### Evaluating Model"
   ]
  },
  {
   "cell_type": "code",
   "execution_count": 41,
   "id": "9f7fd9bd-2edb-4fc4-b561-c426c6d775fd",
   "metadata": {},
   "outputs": [
    {
     "name": "stdout",
     "output_type": "stream",
     "text": [
      "188/188 [==============================] - 1s 4ms/step - loss: 2.8161e-05 - accuracy: 1.0000\n"
     ]
    },
    {
     "data": {
      "text/plain": [
       "[2.8160508009023033e-05, 1.0]"
      ]
     },
     "execution_count": 41,
     "metadata": {},
     "output_type": "execute_result"
    }
   ],
   "source": [
    "gru.evaluate(test)"
   ]
  },
  {
   "cell_type": "markdown",
   "id": "f614b7ce-574c-46ac-959f-d8e4ad26dc79",
   "metadata": {},
   "source": [
    "### Accuracy and Loss Curves"
   ]
  },
  {
   "cell_type": "code",
   "execution_count": 42,
   "id": "40a05cb6-6044-4656-bbc4-34537beeb2dd",
   "metadata": {},
   "outputs": [
    {
     "data": {
      "image/png": "[encoded data removed]",
      "text/plain": [
       "<Figure size 640x480 with 1 Axes>"
      ]
     },
     "metadata": {},
     "output_type": "display_data"
    }
   ],
   "source": [
    "plt.plot(logs.history['accuracy'])\n",
    "plt.plot(logs.history['val_accuracy'])\n",
    "plt.title('model accuracy')\n",
    "plt.ylabel('accuracy')\n",
    "plt.xlabel('epoch')\n",
    "plt.legend(['train', 'val'], loc='upper left')\n",
    "plt.show()"
   ]
  },
  {
   "cell_type": "code",
   "execution_count": 43,
   "id": "0ae683bb-bab0-4b4f-8d4c-530a283747f7",
   "metadata": {},
   "outputs": [
    {
     "data": {
      "image/png": "[encoded data removed]",
      "text/plain": [
       "<Figure size 640x480 with 1 Axes>"
      ]
     },
     "metadata": {},
     "output_type": "display_data"
    }
   ],
   "source": [
    "plt.plot(logs.history['loss'])\n",
    "plt.plot(logs.history['val_loss'])\n",
    "plt.title('model loss')\n",
    "plt.ylabel('loss')\n",
    "plt.xlabel('epoch')\n",
    "plt.legend(['train', 'val'], loc='upper left')\n",
    "plt.show()"
   ]
  },
  {
   "cell_type": "markdown",
   "id": "635b84ef-077f-4db5-bbc4-9ee0a345fd3a",
   "metadata": {},
   "source": [
    "### Looking at Real Outputs on One Batch"
   ]
  },
  {
   "cell_type": "code",
   "execution_count": 44,
   "id": "a62bd79b-c7ae-4707-a0cc-2538c120b27d",
   "metadata": {},
   "outputs": [
    {
     "name": "stdout",
     "output_type": "stream",
     "text": [
      "1/1 [==============================] - 1s 1s/step\n"
     ]
    },
    {
     "data": {
      "text/html": [
       "<div>\n",
       "<style scoped>\n",
       "    .dataframe tbody tr th:only-of-type {\n",
       "        vertical-align: middle;\n",
       "    }\n",
       "\n",
       "    .dataframe tbody tr th {\n",
       "        vertical-align: top;\n",
       "    }\n",
       "\n",
       "    .dataframe thead th {\n",
       "        text-align: right;\n",
       "    }\n",
       "</style>\n",
       "<table border=\"1\" class=\"dataframe\">\n",
       "  <thead>\n",
       "    <tr style=\"text-align: right;\">\n",
       "      <th></th>\n",
       "      <th>0</th>\n",
       "      <th>1</th>\n",
       "    </tr>\n",
       "  </thead>\n",
       "  <tbody>\n",
       "    <tr>\n",
       "      <th>0</th>\n",
       "      <td>april09,0695</td>\n",
       "      <td>0695-04-09</td>\n",
       "    </tr>\n",
       "    <tr>\n",
       "      <th>1</th>\n",
       "      <td>april11,0529</td>\n",
       "      <td>0529-04-11</td>\n",
       "    </tr>\n",
       "    <tr>\n",
       "      <th>2</th>\n",
       "      <td>july14,0721</td>\n",
       "      <td>0721-07-14</td>\n",
       "    </tr>\n",
       "    <tr>\n",
       "      <th>3</th>\n",
       "      <td>september15,0618</td>\n",
       "      <td>0618-09-15</td>\n",
       "    </tr>\n",
       "    <tr>\n",
       "      <th>4</th>\n",
       "      <td>february03,0250</td>\n",
       "      <td>0250-02-03</td>\n",
       "    </tr>\n",
       "    <tr>\n",
       "      <th>5</th>\n",
       "      <td>september01,0157</td>\n",
       "      <td>0157-09-01</td>\n",
       "    </tr>\n",
       "    <tr>\n",
       "      <th>6</th>\n",
       "      <td>january19,0807</td>\n",
       "      <td>0807-01-19</td>\n",
       "    </tr>\n",
       "    <tr>\n",
       "      <th>7</th>\n",
       "      <td>april24,0156</td>\n",
       "      <td>0156-04-24</td>\n",
       "    </tr>\n",
       "    <tr>\n",
       "      <th>8</th>\n",
       "      <td>september21,1413</td>\n",
       "      <td>1413-09-21</td>\n",
       "    </tr>\n",
       "    <tr>\n",
       "      <th>9</th>\n",
       "      <td>may05,1946</td>\n",
       "      <td>1946-05-05</td>\n",
       "    </tr>\n",
       "    <tr>\n",
       "      <th>10</th>\n",
       "      <td>november03,0597</td>\n",
       "      <td>0597-11-03</td>\n",
       "    </tr>\n",
       "    <tr>\n",
       "      <th>11</th>\n",
       "      <td>july04,0535</td>\n",
       "      <td>0535-07-04</td>\n",
       "    </tr>\n",
       "    <tr>\n",
       "      <th>12</th>\n",
       "      <td>june24,1888</td>\n",
       "      <td>1888-06-24</td>\n",
       "    </tr>\n",
       "    <tr>\n",
       "      <th>13</th>\n",
       "      <td>october22,1863</td>\n",
       "      <td>1863-10-22</td>\n",
       "    </tr>\n",
       "    <tr>\n",
       "      <th>14</th>\n",
       "      <td>january14,0699</td>\n",
       "      <td>0699-01-14</td>\n",
       "    </tr>\n",
       "    <tr>\n",
       "      <th>15</th>\n",
       "      <td>may19,0463</td>\n",
       "      <td>0463-05-19</td>\n",
       "    </tr>\n",
       "    <tr>\n",
       "      <th>16</th>\n",
       "      <td>july14,0355</td>\n",
       "      <td>0355-07-14</td>\n",
       "    </tr>\n",
       "    <tr>\n",
       "      <th>17</th>\n",
       "      <td>february15,0634</td>\n",
       "      <td>0634-02-15</td>\n",
       "    </tr>\n",
       "    <tr>\n",
       "      <th>18</th>\n",
       "      <td>july10,1504</td>\n",
       "      <td>1504-07-10</td>\n",
       "    </tr>\n",
       "    <tr>\n",
       "      <th>19</th>\n",
       "      <td>february29,1320</td>\n",
       "      <td>1320-02-29</td>\n",
       "    </tr>\n",
       "    <tr>\n",
       "      <th>20</th>\n",
       "      <td>january10,0126</td>\n",
       "      <td>0126-01-10</td>\n",
       "    </tr>\n",
       "    <tr>\n",
       "      <th>21</th>\n",
       "      <td>december15,1072</td>\n",
       "      <td>1072-12-15</td>\n",
       "    </tr>\n",
       "    <tr>\n",
       "      <th>22</th>\n",
       "      <td>june10,0804</td>\n",
       "      <td>0804-06-10</td>\n",
       "    </tr>\n",
       "    <tr>\n",
       "      <th>23</th>\n",
       "      <td>march24,0901</td>\n",
       "      <td>0901-03-24</td>\n",
       "    </tr>\n",
       "    <tr>\n",
       "      <th>24</th>\n",
       "      <td>april18,1482</td>\n",
       "      <td>1482-04-18</td>\n",
       "    </tr>\n",
       "    <tr>\n",
       "      <th>25</th>\n",
       "      <td>september24,1568</td>\n",
       "      <td>1568-09-24</td>\n",
       "    </tr>\n",
       "    <tr>\n",
       "      <th>26</th>\n",
       "      <td>january16,1668</td>\n",
       "      <td>1668-01-16</td>\n",
       "    </tr>\n",
       "    <tr>\n",
       "      <th>27</th>\n",
       "      <td>june15,0920</td>\n",
       "      <td>0920-06-15</td>\n",
       "    </tr>\n",
       "    <tr>\n",
       "      <th>28</th>\n",
       "      <td>july07,0648</td>\n",
       "      <td>0648-07-07</td>\n",
       "    </tr>\n",
       "    <tr>\n",
       "      <th>29</th>\n",
       "      <td>june24,1600</td>\n",
       "      <td>1600-06-24</td>\n",
       "    </tr>\n",
       "    <tr>\n",
       "      <th>30</th>\n",
       "      <td>december05,0468</td>\n",
       "      <td>0468-12-05</td>\n",
       "    </tr>\n",
       "    <tr>\n",
       "      <th>31</th>\n",
       "      <td>november29,0404</td>\n",
       "      <td>0404-11-29</td>\n",
       "    </tr>\n",
       "  </tbody>\n",
       "</table>\n",
       "</div>"
      ],
      "text/plain": [
       "                   0           1\n",
       "0       april09,0695  0695-04-09\n",
       "1       april11,0529  0529-04-11\n",
       "2        july14,0721  0721-07-14\n",
       "3   september15,0618  0618-09-15\n",
       "4    february03,0250  0250-02-03\n",
       "5   september01,0157  0157-09-01\n",
       "6     january19,0807  0807-01-19\n",
       "7       april24,0156  0156-04-24\n",
       "8   september21,1413  1413-09-21\n",
       "9         may05,1946  1946-05-05\n",
       "10   november03,0597  0597-11-03\n",
       "11       july04,0535  0535-07-04\n",
       "12       june24,1888  1888-06-24\n",
       "13    october22,1863  1863-10-22\n",
       "14    january14,0699  0699-01-14\n",
       "15        may19,0463  0463-05-19\n",
       "16       july14,0355  0355-07-14\n",
       "17   february15,0634  0634-02-15\n",
       "18       july10,1504  1504-07-10\n",
       "19   february29,1320  1320-02-29\n",
       "20    january10,0126  0126-01-10\n",
       "21   december15,1072  1072-12-15\n",
       "22       june10,0804  0804-06-10\n",
       "23      march24,0901  0901-03-24\n",
       "24      april18,1482  1482-04-18\n",
       "25  september24,1568  1568-09-24\n",
       "26    january16,1668  1668-01-16\n",
       "27       june15,0920  0920-06-15\n",
       "28       july07,0648  0648-07-07\n",
       "29       june24,1600  1600-06-24\n",
       "30   december05,0468  0468-12-05\n",
       "31   november29,0404  0404-11-29"
      ]
     },
     "execution_count": 44,
     "metadata": {},
     "output_type": "execute_result"
    }
   ],
   "source": [
    "x = test.take(1)\n",
    "preds = gru.predict(x)\n",
    "x = xtokenizer.sequences_to_texts(list(x)[0][0].numpy())\n",
    "x = list(map(lambda x: re.sub(r\" |\\?\",\"\",x),x))\n",
    "preds = tf.math.argmax(preds,axis = 2)\n",
    "preds = list(map(lambda x: re.sub(r\" |\\?\",\"\",x),ytokenizer.sequences_to_texts(preds.numpy())))\n",
    "pd.DataFrame(zip(x,preds))"
   ]
  },
  {
   "cell_type": "markdown",
   "id": "b3607388-0e22-4342-86bd-6000af14eb0e",
   "metadata": {},
   "source": [
    "### Creating a function to convert any arbitrary date"
   ]
  },
  {
   "cell_type": "code",
   "execution_count": 50,
   "id": "f0b21800-2c96-4528-8bb1-31b5f35c38ba",
   "metadata": {},
   "outputs": [],
   "source": [
    "def convertDate(date):\n",
    "    date =  date+(18-len(date))*\"?\"\n",
    "    date = [date]*32\n",
    "    preds = gru.predict(xtokenizer.texts_to_sequences(date))\n",
    "    preds = tf.math.argmax(preds,axis = 2)\n",
    "    return list(map(lambda x: re.sub(r\" |\\?\",\"\",x),ytokenizer.sequences_to_texts(preds.numpy())))[0]"
   ]
  },
  {
   "cell_type": "code",
   "execution_count": 53,
   "id": "d3e718e7-d512-4c24-824f-5f7ffc94e533",
   "metadata": {},
   "outputs": [
    {
     "name": "stdout",
     "output_type": "stream",
     "text": [
      "1/1 [==============================] - 0s 47ms/step\n"
     ]
    },
    {
     "data": {
      "text/plain": [
       "'2024-06-22'"
      ]
     },
     "execution_count": 53,
     "metadata": {},
     "output_type": "execute_result"
    }
   ],
   "source": [
    "date  = \"June 22, 2024\"\n",
    "convertDate(date)"
   ]
  }
 ],
 "metadata": {
  "environment": {
   "kernel": "conda-root-py",
   "name": ".m122",
   "type": "gcloud",
   "uri": "us-docker.pkg.dev/deeplearning-platform-release/gcr.io/:m122"
  },
  "kernelspec": {
   "display_name": "Python [conda env:root] *",
   "language": "python",
   "name": "conda-root-py"
  },
  "language_info": {
   "codemirror_mode": {
    "name": "ipython",
    "version": 3
   },
   "file_extension": ".py",
   "mimetype": "text/x-python",
   "name": "python",
   "nbconvert_exporter": "python",
   "pygments_lexer": "ipython3",
   "version": "3.10.12"
  },
  "widgets": {
   "application/vnd.jupyter.widget-state+json": {
    "state": {},
    "version_major": 2,
    "version_minor": 0
   }
  }
 },
 "nbformat": 4,
 "nbformat_minor": 5
}
